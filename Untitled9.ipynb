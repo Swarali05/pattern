{
  "nbformat": 4,
  "nbformat_minor": 0,
  "metadata": {
    "colab": {
      "provenance": [],
      "authorship_tag": "ABX9TyOUat8H/eApjnj58nyeiOv/",
      "include_colab_link": true
    },
    "kernelspec": {
      "name": "python3",
      "display_name": "Python 3"
    },
    "language_info": {
      "name": "python"
    }
  },
  "cells": [
    {
      "cell_type": "markdown",
      "metadata": {
        "id": "view-in-github",
        "colab_type": "text"
      },
      "source": [
        "<a href=\"https://colab.research.google.com/github/Swarali05/pattern/blob/main/Untitled9.ipynb\" target=\"_parent\"><img src=\"https://colab.research.google.com/assets/colab-badge.svg\" alt=\"Open In Colab\"/></a>"
      ]
    },
    {
      "cell_type": "code",
      "execution_count": 1,
      "metadata": {
        "colab": {
          "base_uri": "https://localhost:8080/",
          "height": 638
        },
        "id": "j-ydIYb8dPLv",
        "outputId": "9ef7a20f-9537-4d94-f195-27fd2e9d7f08"
      },
      "outputs": [
        {
          "output_type": "stream",
          "name": "stdout",
          "text": [
            "The data to be plotted:\n",
            "\n",
            "[[32 50 57 27 78 60 20 54 37 84]\n",
            " [44 28 39 27 54 70 41 39  5 38]\n",
            " [33 23 72 79 36 49 93 37 46 84]\n",
            " [57 24 27 98 35 62  5 42 35 28]\n",
            " [37 60  2 32  5 41 76 14 42  2]\n",
            " [86 15 71 75 10 24 41 22 77 65]\n",
            " [98  4 75 69 77 91 52  8 48 36]\n",
            " [38 72 31 26 94 14 64  2 59 16]\n",
            " [ 9 57 77  8 67 84 46 50 61 29]\n",
            " [40 33 25  7 83 68 28 18 44 30]]\n"
          ]
        },
        {
          "output_type": "display_data",
          "data": {
            "text/plain": [
              "<Figure size 640x480 with 2 Axes>"
            ],
            "image/png": "[encoded data removed]"
          },
          "metadata": {}
        }
      ],
      "source": [
        "# importing the modules\n",
        "import numpy as np\n",
        "import seaborn as sn\n",
        "import matplotlib.pyplot as plt\n",
        "\n",
        "# generating 2-D 10x10 matrix of random numbers\n",
        "# from 1 to 100\n",
        "data = np.random.randint(low = 1,\n",
        "                         high = 100,\n",
        "                         size = (10, 10))\n",
        "print(\"The data to be plotted:\\n\")\n",
        "print(data)\n",
        "\n",
        "# plotting the heatmap\n",
        "hm = sn.heatmap(data = data)\n",
        "\n",
        "# displaying the plotted heatmap\n",
        "plt.show()"
      ]
    }
  ]
}